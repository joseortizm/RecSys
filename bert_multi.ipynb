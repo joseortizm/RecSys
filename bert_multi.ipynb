{
 "cells": [
  {
   "cell_type": "code",
   "execution_count": 1,
   "metadata": {},
   "outputs": [],
   "source": [
    "import pandas as pd\n",
    "import numpy as np\n",
    "from sklearn.model_selection import train_test_split \n",
    "import re\n",
    "from torch.utils.data import Dataset, DataLoader\n",
    "from transformers import AutoTokenizer, AdamW, BertTokenizer, AutoModelForMaskedLM \n",
    "import torch\n",
    "import torch.nn as nn\n",
    "import copy"
   ]
  },
  {
   "cell_type": "code",
   "execution_count": 2,
   "metadata": {},
   "outputs": [
    {
     "data": {
      "text/plain": [
       "<torch._C.Generator at 0x161a9f5f0>"
      ]
     },
     "execution_count": 2,
     "metadata": {},
     "output_type": "execute_result"
    }
   ],
   "source": [
    "seed = 1\n",
    "np.random.seed(seed)\n",
    "torch.manual_seed(seed)"
   ]
  },
  {
   "cell_type": "markdown",
   "metadata": {},
   "source": [
    "## Dataset"
   ]
  },
  {
   "cell_type": "code",
   "execution_count": 3,
   "metadata": {},
   "outputs": [
    {
     "data": {
      "text/html": [
       "<div>\n",
       "<style scoped>\n",
       "    .dataframe tbody tr th:only-of-type {\n",
       "        vertical-align: middle;\n",
       "    }\n",
       "\n",
       "    .dataframe tbody tr th {\n",
       "        vertical-align: top;\n",
       "    }\n",
       "\n",
       "    .dataframe thead th {\n",
       "        text-align: right;\n",
       "    }\n",
       "</style>\n",
       "<table border=\"1\" class=\"dataframe\">\n",
       "  <thead>\n",
       "    <tr style=\"text-align: right;\">\n",
       "      <th></th>\n",
       "      <th>Unnamed: 0</th>\n",
       "      <th>review_en</th>\n",
       "      <th>review_es</th>\n",
       "      <th>sentiment</th>\n",
       "      <th>sentimiento</th>\n",
       "    </tr>\n",
       "  </thead>\n",
       "  <tbody>\n",
       "    <tr>\n",
       "      <th>0</th>\n",
       "      <td>0</td>\n",
       "      <td>One of the other reviewers has mentioned that ...</td>\n",
       "      <td>Uno de los otros críticos ha mencionado que de...</td>\n",
       "      <td>positive</td>\n",
       "      <td>positivo</td>\n",
       "    </tr>\n",
       "    <tr>\n",
       "      <th>1</th>\n",
       "      <td>1</td>\n",
       "      <td>A wonderful little production. The filming tec...</td>\n",
       "      <td>Una pequeña pequeña producción.La técnica de f...</td>\n",
       "      <td>positive</td>\n",
       "      <td>positivo</td>\n",
       "    </tr>\n",
       "    <tr>\n",
       "      <th>2</th>\n",
       "      <td>2</td>\n",
       "      <td>I thought this was a wonderful way to spend ti...</td>\n",
       "      <td>Pensé que esta era una manera maravillosa de p...</td>\n",
       "      <td>positive</td>\n",
       "      <td>positivo</td>\n",
       "    </tr>\n",
       "    <tr>\n",
       "      <th>3</th>\n",
       "      <td>3</td>\n",
       "      <td>Basically there's a family where a little boy ...</td>\n",
       "      <td>Básicamente, hay una familia donde un niño peq...</td>\n",
       "      <td>negative</td>\n",
       "      <td>negativo</td>\n",
       "    </tr>\n",
       "    <tr>\n",
       "      <th>4</th>\n",
       "      <td>4</td>\n",
       "      <td>Petter Mattei's \"Love in the Time of Money\" is...</td>\n",
       "      <td>El \"amor en el tiempo\" de Petter Mattei es una...</td>\n",
       "      <td>positive</td>\n",
       "      <td>positivo</td>\n",
       "    </tr>\n",
       "  </tbody>\n",
       "</table>\n",
       "</div>"
      ],
      "text/plain": [
       "   Unnamed: 0                                          review_en  \\\n",
       "0           0  One of the other reviewers has mentioned that ...   \n",
       "1           1  A wonderful little production. The filming tec...   \n",
       "2           2  I thought this was a wonderful way to spend ti...   \n",
       "3           3  Basically there's a family where a little boy ...   \n",
       "4           4  Petter Mattei's \"Love in the Time of Money\" is...   \n",
       "\n",
       "                                           review_es sentiment sentimiento  \n",
       "0  Uno de los otros críticos ha mencionado que de...  positive    positivo  \n",
       "1  Una pequeña pequeña producción.La técnica de f...  positive    positivo  \n",
       "2  Pensé que esta era una manera maravillosa de p...  positive    positivo  \n",
       "3  Básicamente, hay una familia donde un niño peq...  negative    negativo  \n",
       "4  El \"amor en el tiempo\" de Petter Mattei es una...  positive    positivo  "
      ]
     },
     "execution_count": 3,
     "metadata": {},
     "output_type": "execute_result"
    }
   ],
   "source": [
    "filenameDataset = \"datasets/IMDBDatasetSPANISH.csv\"\n",
    "data = pd.read_csv(filenameDataset)\n",
    "data.head()"
   ]
  },
  {
   "cell_type": "code",
   "execution_count": 4,
   "metadata": {},
   "outputs": [
    {
     "data": {
      "text/plain": [
       "Unnamed: 0     0\n",
       "review_en      0\n",
       "review_es      0\n",
       "sentiment      0\n",
       "sentimiento    0\n",
       "dtype: int64"
      ]
     },
     "execution_count": 4,
     "metadata": {},
     "output_type": "execute_result"
    }
   ],
   "source": [
    "data.isnull().sum()"
   ]
  },
  {
   "cell_type": "code",
   "execution_count": 5,
   "metadata": {},
   "outputs": [],
   "source": [
    "def to_sentiment(sentiment):    \n",
    "    sentiment = str(sentiment)    \n",
    "    if sentiment == 'positive':\n",
    "        return 1\n",
    "    elif sentiment == 'negative':\n",
    "        return 0\n",
    "    else:\n",
    "        return 2"
   ]
  },
  {
   "cell_type": "code",
   "execution_count": 6,
   "metadata": {},
   "outputs": [],
   "source": [
    "#Check spanish\n",
    "def selectLanguage(language, data):\n",
    "    if language == \"spanish\":\n",
    "        data['is_positive'] = data.sentiment.apply(to_sentiment)\n",
    "        del data['review_en']\n",
    "        del data['sentimiento']\n",
    "        del data['sentiment']\n",
    "        data.columns = ['id_review', 'text', 'sentiment']\n",
    "    elif language == \"english\":\n",
    "        del data['review_es']\n",
    "        del data['sentimiento']\n",
    "        del data[data.columns[0]]\n",
    "        data.rename(columns={'review_en': 'text'}, inplace=True)\n",
    "        data['sentiment'] = data.sentiment.apply(to_sentiment)\n",
    "    return data"
   ]
  },
  {
   "cell_type": "code",
   "execution_count": 7,
   "metadata": {},
   "outputs": [],
   "source": [
    "def basic_cleaning(text):\n",
    "    text=re.sub(r'https?://www\\.\\S+\\.com','',text)\n",
    "    text=re.sub(r'[^A-Za-z|\\s]','',text)\n",
    "    text=re.sub(r'\\*+','swear',text)\n",
    "    return text\n",
    "\n",
    "def remove_html(text):\n",
    "    html=re.compile(r'<.*?>')\n",
    "    return html.sub(r'',text)\n",
    "\n",
    "def remove_emoji(text):\n",
    "    emoji_pattern = re.compile(\"[\"\n",
    "                               u\"\\U0001F600-\\U0001F64F\" #emoticons\n",
    "                               u\"\\U0001F300-\\U0001F5FF\" #symbols & pictographs\n",
    "                               u\"\\U0001F680-\\U0001F6FF\" #transport & map symbols\n",
    "                               u\"\\U0001F1E0-\\U0001F1FF\" #flags (iOS)\n",
    "                               u\"\\U00002702-\\U000027B0\" \n",
    "                               u\"\\U000024C2-\\U0001F251\"\n",
    "                               \"]+\", flags=re.UNICODE)\n",
    "    return emoji_pattern.sub(r'', text)\n",
    "\n",
    "def remove_multiplechars(text):\n",
    "    text = re.sub(r'(.)\\1{3,}',r'\\1', text)\n",
    "    return text\n",
    "\n",
    "def clean(df):\n",
    "    for col in ['text']:#,'selected_text']:\n",
    "        df[col]=df[col].astype(str).apply(lambda x:basic_cleaning(x))\n",
    "        df[col]=df[col].astype(str).apply(lambda x:remove_emoji(x))\n",
    "        df[col]=df[col].astype(str).apply(lambda x:remove_html(x))\n",
    "        df[col]=df[col].astype(str).apply(lambda x:remove_multiplechars(x))\n",
    "    return df"
   ]
  },
  {
   "cell_type": "code",
   "execution_count": 9,
   "metadata": {},
   "outputs": [],
   "source": [
    "idioma = \"spanish\"\n",
    "data = selectLanguage(idioma, data)"
   ]
  },
  {
   "cell_type": "code",
   "execution_count": 10,
   "metadata": {},
   "outputs": [
    {
     "data": {
      "text/html": [
       "<div>\n",
       "<style scoped>\n",
       "    .dataframe tbody tr th:only-of-type {\n",
       "        vertical-align: middle;\n",
       "    }\n",
       "\n",
       "    .dataframe tbody tr th {\n",
       "        vertical-align: top;\n",
       "    }\n",
       "\n",
       "    .dataframe thead th {\n",
       "        text-align: right;\n",
       "    }\n",
       "</style>\n",
       "<table border=\"1\" class=\"dataframe\">\n",
       "  <thead>\n",
       "    <tr style=\"text-align: right;\">\n",
       "      <th></th>\n",
       "      <th>id_review</th>\n",
       "      <th>text</th>\n",
       "      <th>sentiment</th>\n",
       "    </tr>\n",
       "  </thead>\n",
       "  <tbody>\n",
       "    <tr>\n",
       "      <th>0</th>\n",
       "      <td>0</td>\n",
       "      <td>Uno de los otros críticos ha mencionado que de...</td>\n",
       "      <td>1</td>\n",
       "    </tr>\n",
       "    <tr>\n",
       "      <th>1</th>\n",
       "      <td>1</td>\n",
       "      <td>Una pequeña pequeña producción.La técnica de f...</td>\n",
       "      <td>1</td>\n",
       "    </tr>\n",
       "    <tr>\n",
       "      <th>2</th>\n",
       "      <td>2</td>\n",
       "      <td>Pensé que esta era una manera maravillosa de p...</td>\n",
       "      <td>1</td>\n",
       "    </tr>\n",
       "    <tr>\n",
       "      <th>3</th>\n",
       "      <td>3</td>\n",
       "      <td>Básicamente, hay una familia donde un niño peq...</td>\n",
       "      <td>0</td>\n",
       "    </tr>\n",
       "    <tr>\n",
       "      <th>4</th>\n",
       "      <td>4</td>\n",
       "      <td>El \"amor en el tiempo\" de Petter Mattei es una...</td>\n",
       "      <td>1</td>\n",
       "    </tr>\n",
       "  </tbody>\n",
       "</table>\n",
       "</div>"
      ],
      "text/plain": [
       "   id_review                                               text  sentiment\n",
       "0          0  Uno de los otros críticos ha mencionado que de...          1\n",
       "1          1  Una pequeña pequeña producción.La técnica de f...          1\n",
       "2          2  Pensé que esta era una manera maravillosa de p...          1\n",
       "3          3  Básicamente, hay una familia donde un niño peq...          0\n",
       "4          4  El \"amor en el tiempo\" de Petter Mattei es una...          1"
      ]
     },
     "execution_count": 10,
     "metadata": {},
     "output_type": "execute_result"
    }
   ],
   "source": [
    "data.head()"
   ]
  },
  {
   "cell_type": "code",
   "execution_count": 11,
   "metadata": {},
   "outputs": [
    {
     "name": "stdout",
     "output_type": "stream",
     "text": [
      "1    25000\n",
      "0    25000\n",
      "Name: sentiment, dtype: int64\n",
      "50000\n"
     ]
    }
   ],
   "source": [
    "print(data.sentiment.value_counts())\n",
    "print(len(data.sentiment))"
   ]
  },
  {
   "cell_type": "code",
   "execution_count": 13,
   "metadata": {},
   "outputs": [],
   "source": [
    "commentDFTrain, commentDFVal = train_test_split(data, test_size=0.2, random_state=seed) "
   ]
  },
  {
   "cell_type": "code",
   "execution_count": 14,
   "metadata": {},
   "outputs": [
    {
     "data": {
      "text/html": [
       "<div>\n",
       "<style scoped>\n",
       "    .dataframe tbody tr th:only-of-type {\n",
       "        vertical-align: middle;\n",
       "    }\n",
       "\n",
       "    .dataframe tbody tr th {\n",
       "        vertical-align: top;\n",
       "    }\n",
       "\n",
       "    .dataframe thead th {\n",
       "        text-align: right;\n",
       "    }\n",
       "</style>\n",
       "<table border=\"1\" class=\"dataframe\">\n",
       "  <thead>\n",
       "    <tr style=\"text-align: right;\">\n",
       "      <th></th>\n",
       "      <th>id_review</th>\n",
       "      <th>text</th>\n",
       "      <th>sentiment</th>\n",
       "    </tr>\n",
       "  </thead>\n",
       "  <tbody>\n",
       "    <tr>\n",
       "      <th>18165</th>\n",
       "      <td>18165</td>\n",
       "      <td>Esta película se ha comparado con la hilarante...</td>\n",
       "      <td>0</td>\n",
       "    </tr>\n",
       "    <tr>\n",
       "      <th>36059</th>\n",
       "      <td>36059</td>\n",
       "      <td>Razonablemente efectivo horror / ciencia ficci...</td>\n",
       "      <td>1</td>\n",
       "    </tr>\n",
       "    <tr>\n",
       "      <th>13242</th>\n",
       "      <td>13242</td>\n",
       "      <td>La inspiración para las películas \"desnudas de...</td>\n",
       "      <td>1</td>\n",
       "    </tr>\n",
       "    <tr>\n",
       "      <th>32985</th>\n",
       "      <td>32985</td>\n",
       "      <td>Cuando esta película se liberó originalmente, ...</td>\n",
       "      <td>1</td>\n",
       "    </tr>\n",
       "    <tr>\n",
       "      <th>41133</th>\n",
       "      <td>41133</td>\n",
       "      <td>Pasé por esto por casualidad. Estaba en la cas...</td>\n",
       "      <td>1</td>\n",
       "    </tr>\n",
       "    <tr>\n",
       "      <th>...</th>\n",
       "      <td>...</td>\n",
       "      <td>...</td>\n",
       "      <td>...</td>\n",
       "    </tr>\n",
       "    <tr>\n",
       "      <th>43723</th>\n",
       "      <td>43723</td>\n",
       "      <td>Las figuras más grandes que la vida de Wyatt E...</td>\n",
       "      <td>1</td>\n",
       "    </tr>\n",
       "    <tr>\n",
       "      <th>32511</th>\n",
       "      <td>32511</td>\n",
       "      <td>De acuerdo, tienes: Penelope Keith como Miss H...</td>\n",
       "      <td>0</td>\n",
       "    </tr>\n",
       "    <tr>\n",
       "      <th>5192</th>\n",
       "      <td>5192</td>\n",
       "      <td>Una biótica extraña y intencional de Dyan Thom...</td>\n",
       "      <td>0</td>\n",
       "    </tr>\n",
       "    <tr>\n",
       "      <th>12172</th>\n",
       "      <td>12172</td>\n",
       "      <td>Estructura básica de una historia: inicio, med...</td>\n",
       "      <td>0</td>\n",
       "    </tr>\n",
       "    <tr>\n",
       "      <th>33003</th>\n",
       "      <td>33003</td>\n",
       "      <td>Ubicado en París en el año 1910, un antiguo ca...</td>\n",
       "      <td>1</td>\n",
       "    </tr>\n",
       "  </tbody>\n",
       "</table>\n",
       "<p>40000 rows × 3 columns</p>\n",
       "</div>"
      ],
      "text/plain": [
       "       id_review                                               text  sentiment\n",
       "18165      18165  Esta película se ha comparado con la hilarante...          0\n",
       "36059      36059  Razonablemente efectivo horror / ciencia ficci...          1\n",
       "13242      13242  La inspiración para las películas \"desnudas de...          1\n",
       "32985      32985  Cuando esta película se liberó originalmente, ...          1\n",
       "41133      41133  Pasé por esto por casualidad. Estaba en la cas...          1\n",
       "...          ...                                                ...        ...\n",
       "43723      43723  Las figuras más grandes que la vida de Wyatt E...          1\n",
       "32511      32511  De acuerdo, tienes: Penelope Keith como Miss H...          0\n",
       "5192        5192  Una biótica extraña y intencional de Dyan Thom...          0\n",
       "12172      12172  Estructura básica de una historia: inicio, med...          0\n",
       "33003      33003  Ubicado en París en el año 1910, un antiguo ca...          1\n",
       "\n",
       "[40000 rows x 3 columns]"
      ]
     },
     "execution_count": 14,
     "metadata": {},
     "output_type": "execute_result"
    }
   ],
   "source": [
    "commentDFTrain"
   ]
  },
  {
   "cell_type": "code",
   "execution_count": 15,
   "metadata": {},
   "outputs": [
    {
     "data": {
      "text/html": [
       "<div>\n",
       "<style scoped>\n",
       "    .dataframe tbody tr th:only-of-type {\n",
       "        vertical-align: middle;\n",
       "    }\n",
       "\n",
       "    .dataframe tbody tr th {\n",
       "        vertical-align: top;\n",
       "    }\n",
       "\n",
       "    .dataframe thead th {\n",
       "        text-align: right;\n",
       "    }\n",
       "</style>\n",
       "<table border=\"1\" class=\"dataframe\">\n",
       "  <thead>\n",
       "    <tr style=\"text-align: right;\">\n",
       "      <th></th>\n",
       "      <th>id_review</th>\n",
       "      <th>text</th>\n",
       "      <th>sentiment</th>\n",
       "    </tr>\n",
       "  </thead>\n",
       "  <tbody>\n",
       "    <tr>\n",
       "      <th>26247</th>\n",
       "      <td>26247</td>\n",
       "      <td>Sin héroes muertos, se obtienen líneas estúpid...</td>\n",
       "      <td>0</td>\n",
       "    </tr>\n",
       "    <tr>\n",
       "      <th>35067</th>\n",
       "      <td>35067</td>\n",
       "      <td>Pensé que tal vez ... tal vez esto podría ser ...</td>\n",
       "      <td>0</td>\n",
       "    </tr>\n",
       "    <tr>\n",
       "      <th>34590</th>\n",
       "      <td>34590</td>\n",
       "      <td>Un equipo militar de élite americano que, por ...</td>\n",
       "      <td>0</td>\n",
       "    </tr>\n",
       "    <tr>\n",
       "      <th>16668</th>\n",
       "      <td>16668</td>\n",
       "      <td>Ridículo cine de terror sobre un hombre rico (...</td>\n",
       "      <td>0</td>\n",
       "    </tr>\n",
       "    <tr>\n",
       "      <th>12196</th>\n",
       "      <td>12196</td>\n",
       "      <td>Bueno, si eres una de esas tuercas de cine de ...</td>\n",
       "      <td>1</td>\n",
       "    </tr>\n",
       "    <tr>\n",
       "      <th>...</th>\n",
       "      <td>...</td>\n",
       "      <td>...</td>\n",
       "      <td>...</td>\n",
       "    </tr>\n",
       "    <tr>\n",
       "      <th>49858</th>\n",
       "      <td>49858</td>\n",
       "      <td>Me gustó esta película.Eso es casi todo lo que...</td>\n",
       "      <td>1</td>\n",
       "    </tr>\n",
       "    <tr>\n",
       "      <th>19849</th>\n",
       "      <td>19849</td>\n",
       "      <td>Imagina la difícil situación de Richard, un pi...</td>\n",
       "      <td>1</td>\n",
       "    </tr>\n",
       "    <tr>\n",
       "      <th>46899</th>\n",
       "      <td>46899</td>\n",
       "      <td>Hay un problema inherente al comentar o revisa...</td>\n",
       "      <td>0</td>\n",
       "    </tr>\n",
       "    <tr>\n",
       "      <th>28256</th>\n",
       "      <td>28256</td>\n",
       "      <td>Cuando la matriz apareció en 1999 y cuestionó ...</td>\n",
       "      <td>1</td>\n",
       "    </tr>\n",
       "    <tr>\n",
       "      <th>43070</th>\n",
       "      <td>43070</td>\n",
       "      <td>Ohhhh hombre esta película es horrible! Este t...</td>\n",
       "      <td>0</td>\n",
       "    </tr>\n",
       "  </tbody>\n",
       "</table>\n",
       "<p>10000 rows × 3 columns</p>\n",
       "</div>"
      ],
      "text/plain": [
       "       id_review                                               text  sentiment\n",
       "26247      26247  Sin héroes muertos, se obtienen líneas estúpid...          0\n",
       "35067      35067  Pensé que tal vez ... tal vez esto podría ser ...          0\n",
       "34590      34590  Un equipo militar de élite americano que, por ...          0\n",
       "16668      16668  Ridículo cine de terror sobre un hombre rico (...          0\n",
       "12196      12196  Bueno, si eres una de esas tuercas de cine de ...          1\n",
       "...          ...                                                ...        ...\n",
       "49858      49858  Me gustó esta película.Eso es casi todo lo que...          1\n",
       "19849      19849  Imagina la difícil situación de Richard, un pi...          1\n",
       "46899      46899  Hay un problema inherente al comentar o revisa...          0\n",
       "28256      28256  Cuando la matriz apareció en 1999 y cuestionó ...          1\n",
       "43070      43070  Ohhhh hombre esta película es horrible! Este t...          0\n",
       "\n",
       "[10000 rows x 3 columns]"
      ]
     },
     "execution_count": 15,
     "metadata": {},
     "output_type": "execute_result"
    }
   ],
   "source": [
    "commentDFVal"
   ]
  },
  {
   "cell_type": "code",
   "execution_count": 16,
   "metadata": {},
   "outputs": [],
   "source": [
    "commentDFTrain_clean = clean(commentDFTrain)\n",
    "commentDFVal_clean = clean(commentDFVal)"
   ]
  },
  {
   "cell_type": "code",
   "execution_count": 17,
   "metadata": {},
   "outputs": [
    {
     "data": {
      "text/html": [
       "<div>\n",
       "<style scoped>\n",
       "    .dataframe tbody tr th:only-of-type {\n",
       "        vertical-align: middle;\n",
       "    }\n",
       "\n",
       "    .dataframe tbody tr th {\n",
       "        vertical-align: top;\n",
       "    }\n",
       "\n",
       "    .dataframe thead th {\n",
       "        text-align: right;\n",
       "    }\n",
       "</style>\n",
       "<table border=\"1\" class=\"dataframe\">\n",
       "  <thead>\n",
       "    <tr style=\"text-align: right;\">\n",
       "      <th></th>\n",
       "      <th>id_review</th>\n",
       "      <th>text</th>\n",
       "      <th>sentiment</th>\n",
       "    </tr>\n",
       "  </thead>\n",
       "  <tbody>\n",
       "    <tr>\n",
       "      <th>18165</th>\n",
       "      <td>18165</td>\n",
       "      <td>Esta pelcula se ha comparado con la hilarante ...</td>\n",
       "      <td>0</td>\n",
       "    </tr>\n",
       "    <tr>\n",
       "      <th>36059</th>\n",
       "      <td>36059</td>\n",
       "      <td>Razonablemente efectivo horror  ciencia ficcin...</td>\n",
       "      <td>1</td>\n",
       "    </tr>\n",
       "    <tr>\n",
       "      <th>13242</th>\n",
       "      <td>13242</td>\n",
       "      <td>La inspiracin para las pelculas desnudas de la...</td>\n",
       "      <td>1</td>\n",
       "    </tr>\n",
       "    <tr>\n",
       "      <th>32985</th>\n",
       "      <td>32985</td>\n",
       "      <td>Cuando esta pelcula se liber originalmente se ...</td>\n",
       "      <td>1</td>\n",
       "    </tr>\n",
       "    <tr>\n",
       "      <th>41133</th>\n",
       "      <td>41133</td>\n",
       "      <td>Pas por esto por casualidad Estaba en la casa ...</td>\n",
       "      <td>1</td>\n",
       "    </tr>\n",
       "    <tr>\n",
       "      <th>...</th>\n",
       "      <td>...</td>\n",
       "      <td>...</td>\n",
       "      <td>...</td>\n",
       "    </tr>\n",
       "    <tr>\n",
       "      <th>43723</th>\n",
       "      <td>43723</td>\n",
       "      <td>Las figuras ms grandes que la vida de Wyatt Ea...</td>\n",
       "      <td>1</td>\n",
       "    </tr>\n",
       "    <tr>\n",
       "      <th>32511</th>\n",
       "      <td>32511</td>\n",
       "      <td>De acuerdo tienes Penelope Keith como Miss Her...</td>\n",
       "      <td>0</td>\n",
       "    </tr>\n",
       "    <tr>\n",
       "      <th>5192</th>\n",
       "      <td>5192</td>\n",
       "      <td>Una bitica extraa y intencional de Dyan Thomas...</td>\n",
       "      <td>0</td>\n",
       "    </tr>\n",
       "    <tr>\n",
       "      <th>12172</th>\n",
       "      <td>12172</td>\n",
       "      <td>Estructura bsica de una historia inicio medio ...</td>\n",
       "      <td>0</td>\n",
       "    </tr>\n",
       "    <tr>\n",
       "      <th>33003</th>\n",
       "      <td>33003</td>\n",
       "      <td>Ubicado en Pars en el ao  un antiguo cantante ...</td>\n",
       "      <td>1</td>\n",
       "    </tr>\n",
       "  </tbody>\n",
       "</table>\n",
       "<p>40000 rows × 3 columns</p>\n",
       "</div>"
      ],
      "text/plain": [
       "       id_review                                               text  sentiment\n",
       "18165      18165  Esta pelcula se ha comparado con la hilarante ...          0\n",
       "36059      36059  Razonablemente efectivo horror  ciencia ficcin...          1\n",
       "13242      13242  La inspiracin para las pelculas desnudas de la...          1\n",
       "32985      32985  Cuando esta pelcula se liber originalmente se ...          1\n",
       "41133      41133  Pas por esto por casualidad Estaba en la casa ...          1\n",
       "...          ...                                                ...        ...\n",
       "43723      43723  Las figuras ms grandes que la vida de Wyatt Ea...          1\n",
       "32511      32511  De acuerdo tienes Penelope Keith como Miss Her...          0\n",
       "5192        5192  Una bitica extraa y intencional de Dyan Thomas...          0\n",
       "12172      12172  Estructura bsica de una historia inicio medio ...          0\n",
       "33003      33003  Ubicado en Pars en el ao  un antiguo cantante ...          1\n",
       "\n",
       "[40000 rows x 3 columns]"
      ]
     },
     "execution_count": 17,
     "metadata": {},
     "output_type": "execute_result"
    }
   ],
   "source": [
    "commentDFTrain_clean"
   ]
  },
  {
   "cell_type": "code",
   "execution_count": 18,
   "metadata": {},
   "outputs": [
    {
     "data": {
      "text/html": [
       "<div>\n",
       "<style scoped>\n",
       "    .dataframe tbody tr th:only-of-type {\n",
       "        vertical-align: middle;\n",
       "    }\n",
       "\n",
       "    .dataframe tbody tr th {\n",
       "        vertical-align: top;\n",
       "    }\n",
       "\n",
       "    .dataframe thead th {\n",
       "        text-align: right;\n",
       "    }\n",
       "</style>\n",
       "<table border=\"1\" class=\"dataframe\">\n",
       "  <thead>\n",
       "    <tr style=\"text-align: right;\">\n",
       "      <th></th>\n",
       "      <th>id_review</th>\n",
       "      <th>text</th>\n",
       "      <th>sentiment</th>\n",
       "    </tr>\n",
       "  </thead>\n",
       "  <tbody>\n",
       "    <tr>\n",
       "      <th>26247</th>\n",
       "      <td>26247</td>\n",
       "      <td>Sin hroes muertos se obtienen lneas estpidas c...</td>\n",
       "      <td>0</td>\n",
       "    </tr>\n",
       "    <tr>\n",
       "      <th>35067</th>\n",
       "      <td>35067</td>\n",
       "      <td>Pens que tal vez  tal vez esto podra ser bueno...</td>\n",
       "      <td>0</td>\n",
       "    </tr>\n",
       "    <tr>\n",
       "      <th>34590</th>\n",
       "      <td>34590</td>\n",
       "      <td>Un equipo militar de lite americano que por su...</td>\n",
       "      <td>0</td>\n",
       "    </tr>\n",
       "    <tr>\n",
       "      <th>16668</th>\n",
       "      <td>16668</td>\n",
       "      <td>Ridculo cine de terror sobre un hombre rico Jo...</td>\n",
       "      <td>0</td>\n",
       "    </tr>\n",
       "    <tr>\n",
       "      <th>12196</th>\n",
       "      <td>12196</td>\n",
       "      <td>Bueno si eres una de esas tuercas de cine de K...</td>\n",
       "      <td>1</td>\n",
       "    </tr>\n",
       "    <tr>\n",
       "      <th>...</th>\n",
       "      <td>...</td>\n",
       "      <td>...</td>\n",
       "      <td>...</td>\n",
       "    </tr>\n",
       "    <tr>\n",
       "      <th>49858</th>\n",
       "      <td>49858</td>\n",
       "      <td>Me gust esta pelculaEso es casi todo lo que pu...</td>\n",
       "      <td>1</td>\n",
       "    </tr>\n",
       "    <tr>\n",
       "      <th>19849</th>\n",
       "      <td>19849</td>\n",
       "      <td>Imagina la difcil situacin de Richard un pinto...</td>\n",
       "      <td>1</td>\n",
       "    </tr>\n",
       "    <tr>\n",
       "      <th>46899</th>\n",
       "      <td>46899</td>\n",
       "      <td>Hay un problema inherente al comentar o revisa...</td>\n",
       "      <td>0</td>\n",
       "    </tr>\n",
       "    <tr>\n",
       "      <th>28256</th>\n",
       "      <td>28256</td>\n",
       "      <td>Cuando la matriz apareci en  y cuestion la exi...</td>\n",
       "      <td>1</td>\n",
       "    </tr>\n",
       "    <tr>\n",
       "      <th>43070</th>\n",
       "      <td>43070</td>\n",
       "      <td>Oh hombre esta pelcula es horrible Este tipo d...</td>\n",
       "      <td>0</td>\n",
       "    </tr>\n",
       "  </tbody>\n",
       "</table>\n",
       "<p>10000 rows × 3 columns</p>\n",
       "</div>"
      ],
      "text/plain": [
       "       id_review                                               text  sentiment\n",
       "26247      26247  Sin hroes muertos se obtienen lneas estpidas c...          0\n",
       "35067      35067  Pens que tal vez  tal vez esto podra ser bueno...          0\n",
       "34590      34590  Un equipo militar de lite americano que por su...          0\n",
       "16668      16668  Ridculo cine de terror sobre un hombre rico Jo...          0\n",
       "12196      12196  Bueno si eres una de esas tuercas de cine de K...          1\n",
       "...          ...                                                ...        ...\n",
       "49858      49858  Me gust esta pelculaEso es casi todo lo que pu...          1\n",
       "19849      19849  Imagina la difcil situacin de Richard un pinto...          1\n",
       "46899      46899  Hay un problema inherente al comentar o revisa...          0\n",
       "28256      28256  Cuando la matriz apareci en  y cuestion la exi...          1\n",
       "43070      43070  Oh hombre esta pelcula es horrible Este tipo d...          0\n",
       "\n",
       "[10000 rows x 3 columns]"
      ]
     },
     "execution_count": 18,
     "metadata": {},
     "output_type": "execute_result"
    }
   ],
   "source": [
    "commentDFVal_clean"
   ]
  },
  {
   "cell_type": "code",
   "execution_count": 19,
   "metadata": {},
   "outputs": [],
   "source": [
    "def selectTexts(dataSet, words):\n",
    "    list_text= []\n",
    "    list_label= []\n",
    "    for (text, target) in zip(dataSet.text, dataSet.sentiment):\n",
    "        if (len(text.split())) <= words:\n",
    "            list_text.append(text)\n",
    "            list_label.append(target)\n",
    "    DFTrain_clean = list(zip(list_text, list_label))\n",
    "    DFTrain_clean = pd.DataFrame(DFTrain_clean, columns=['text','sentiment'])\n",
    "    return DFTrain_clean "
   ]
  },
  {
   "cell_type": "code",
   "execution_count": 20,
   "metadata": {},
   "outputs": [],
   "source": [
    "commentDFTrain_clean = selectTexts(commentDFTrain_clean, 80)"
   ]
  },
  {
   "cell_type": "code",
   "execution_count": 21,
   "metadata": {},
   "outputs": [
    {
     "data": {
      "text/html": [
       "<div>\n",
       "<style scoped>\n",
       "    .dataframe tbody tr th:only-of-type {\n",
       "        vertical-align: middle;\n",
       "    }\n",
       "\n",
       "    .dataframe tbody tr th {\n",
       "        vertical-align: top;\n",
       "    }\n",
       "\n",
       "    .dataframe thead th {\n",
       "        text-align: right;\n",
       "    }\n",
       "</style>\n",
       "<table border=\"1\" class=\"dataframe\">\n",
       "  <thead>\n",
       "    <tr style=\"text-align: right;\">\n",
       "      <th></th>\n",
       "      <th>text</th>\n",
       "      <th>sentiment</th>\n",
       "    </tr>\n",
       "  </thead>\n",
       "  <tbody>\n",
       "    <tr>\n",
       "      <th>0</th>\n",
       "      <td>Razonablemente efectivo horror  ciencia ficcin...</td>\n",
       "      <td>1</td>\n",
       "    </tr>\n",
       "    <tr>\n",
       "      <th>1</th>\n",
       "      <td>Esta pelcula se fue a un comienzo interesanteS...</td>\n",
       "      <td>0</td>\n",
       "    </tr>\n",
       "    <tr>\n",
       "      <th>2</th>\n",
       "      <td>Toda la pelcula pareca sufrir de mala edicin c...</td>\n",
       "      <td>0</td>\n",
       "    </tr>\n",
       "    <tr>\n",
       "      <th>3</th>\n",
       "      <td>Esta pelcula es absolutamente increbleDesde la...</td>\n",
       "      <td>1</td>\n",
       "    </tr>\n",
       "    <tr>\n",
       "      <th>4</th>\n",
       "      <td>En mi opinin esta pelcula tiene una iluminacin...</td>\n",
       "      <td>1</td>\n",
       "    </tr>\n",
       "    <tr>\n",
       "      <th>...</th>\n",
       "      <td>...</td>\n",
       "      <td>...</td>\n",
       "    </tr>\n",
       "    <tr>\n",
       "      <th>3493</th>\n",
       "      <td>Muchas escenas divertidas sobre las personas q...</td>\n",
       "      <td>1</td>\n",
       "    </tr>\n",
       "    <tr>\n",
       "      <th>3494</th>\n",
       "      <td>Esta es la pelcula para aquellos que creen que...</td>\n",
       "      <td>1</td>\n",
       "    </tr>\n",
       "    <tr>\n",
       "      <th>3495</th>\n",
       "      <td>Un ngulo inteligente y extrao para la belleza ...</td>\n",
       "      <td>1</td>\n",
       "    </tr>\n",
       "    <tr>\n",
       "      <th>3496</th>\n",
       "      <td>Esta es una excelente pelcula Tom Hanks y Paul...</td>\n",
       "      <td>1</td>\n",
       "    </tr>\n",
       "    <tr>\n",
       "      <th>3497</th>\n",
       "      <td>Obra maestraLa parte superior de la zanahoria ...</td>\n",
       "      <td>0</td>\n",
       "    </tr>\n",
       "  </tbody>\n",
       "</table>\n",
       "<p>3498 rows × 2 columns</p>\n",
       "</div>"
      ],
      "text/plain": [
       "                                                   text  sentiment\n",
       "0     Razonablemente efectivo horror  ciencia ficcin...          1\n",
       "1     Esta pelcula se fue a un comienzo interesanteS...          0\n",
       "2     Toda la pelcula pareca sufrir de mala edicin c...          0\n",
       "3     Esta pelcula es absolutamente increbleDesde la...          1\n",
       "4     En mi opinin esta pelcula tiene una iluminacin...          1\n",
       "...                                                 ...        ...\n",
       "3493  Muchas escenas divertidas sobre las personas q...          1\n",
       "3494  Esta es la pelcula para aquellos que creen que...          1\n",
       "3495  Un ngulo inteligente y extrao para la belleza ...          1\n",
       "3496  Esta es una excelente pelcula Tom Hanks y Paul...          1\n",
       "3497  Obra maestraLa parte superior de la zanahoria ...          0\n",
       "\n",
       "[3498 rows x 2 columns]"
      ]
     },
     "execution_count": 21,
     "metadata": {},
     "output_type": "execute_result"
    }
   ],
   "source": [
    "commentDFTrain_clean"
   ]
  },
  {
   "cell_type": "code",
   "execution_count": 22,
   "metadata": {},
   "outputs": [],
   "source": [
    "commentDFVal_clean = selectTexts(commentDFVal_clean, 80)"
   ]
  },
  {
   "cell_type": "code",
   "execution_count": 23,
   "metadata": {},
   "outputs": [
    {
     "data": {
      "text/html": [
       "<div>\n",
       "<style scoped>\n",
       "    .dataframe tbody tr th:only-of-type {\n",
       "        vertical-align: middle;\n",
       "    }\n",
       "\n",
       "    .dataframe tbody tr th {\n",
       "        vertical-align: top;\n",
       "    }\n",
       "\n",
       "    .dataframe thead th {\n",
       "        text-align: right;\n",
       "    }\n",
       "</style>\n",
       "<table border=\"1\" class=\"dataframe\">\n",
       "  <thead>\n",
       "    <tr style=\"text-align: right;\">\n",
       "      <th></th>\n",
       "      <th>text</th>\n",
       "      <th>sentiment</th>\n",
       "    </tr>\n",
       "  </thead>\n",
       "  <tbody>\n",
       "    <tr>\n",
       "      <th>0</th>\n",
       "      <td>Quieres saber lo que los escritores de esta pe...</td>\n",
       "      <td>0</td>\n",
       "    </tr>\n",
       "    <tr>\n",
       "      <th>1</th>\n",
       "      <td>Esta fue una pelcula muy bien guionadaGran div...</td>\n",
       "      <td>1</td>\n",
       "    </tr>\n",
       "    <tr>\n",
       "      <th>2</th>\n",
       "      <td>La pelcula no fue tan grandeEl libro es mejorP...</td>\n",
       "      <td>1</td>\n",
       "    </tr>\n",
       "    <tr>\n",
       "      <th>3</th>\n",
       "      <td>He tenido que cambiar mi opinin sobre la peor ...</td>\n",
       "      <td>0</td>\n",
       "    </tr>\n",
       "    <tr>\n",
       "      <th>4</th>\n",
       "      <td>El mundo entero est cayendo presa de una enfer...</td>\n",
       "      <td>1</td>\n",
       "    </tr>\n",
       "    <tr>\n",
       "      <th>...</th>\n",
       "      <td>...</td>\n",
       "      <td>...</td>\n",
       "    </tr>\n",
       "    <tr>\n",
       "      <th>887</th>\n",
       "      <td>Quin escribi el script para esta pelcula el pe...</td>\n",
       "      <td>0</td>\n",
       "    </tr>\n",
       "    <tr>\n",
       "      <th>888</th>\n",
       "      <td>Esta es la segunda pelcula que he visto de Ida...</td>\n",
       "      <td>1</td>\n",
       "    </tr>\n",
       "    <tr>\n",
       "      <th>889</th>\n",
       "      <td>Esta pelcula chupEl primero fue mucho mejorNad...</td>\n",
       "      <td>0</td>\n",
       "    </tr>\n",
       "    <tr>\n",
       "      <th>890</th>\n",
       "      <td>Me encant esta pelcula lo vi cuando tena unos ...</td>\n",
       "      <td>1</td>\n",
       "    </tr>\n",
       "    <tr>\n",
       "      <th>891</th>\n",
       "      <td>Admito que voy ms por el tradicional cuento de...</td>\n",
       "      <td>1</td>\n",
       "    </tr>\n",
       "  </tbody>\n",
       "</table>\n",
       "<p>892 rows × 2 columns</p>\n",
       "</div>"
      ],
      "text/plain": [
       "                                                  text  sentiment\n",
       "0    Quieres saber lo que los escritores de esta pe...          0\n",
       "1    Esta fue una pelcula muy bien guionadaGran div...          1\n",
       "2    La pelcula no fue tan grandeEl libro es mejorP...          1\n",
       "3    He tenido que cambiar mi opinin sobre la peor ...          0\n",
       "4    El mundo entero est cayendo presa de una enfer...          1\n",
       "..                                                 ...        ...\n",
       "887  Quin escribi el script para esta pelcula el pe...          0\n",
       "888  Esta es la segunda pelcula que he visto de Ida...          1\n",
       "889  Esta pelcula chupEl primero fue mucho mejorNad...          0\n",
       "890  Me encant esta pelcula lo vi cuando tena unos ...          1\n",
       "891  Admito que voy ms por el tradicional cuento de...          1\n",
       "\n",
       "[892 rows x 2 columns]"
      ]
     },
     "execution_count": 23,
     "metadata": {},
     "output_type": "execute_result"
    }
   ],
   "source": [
    "commentDFVal_clean"
   ]
  },
  {
   "cell_type": "code",
   "execution_count": 24,
   "metadata": {},
   "outputs": [],
   "source": [
    "dev_size = 0.15"
   ]
  },
  {
   "cell_type": "code",
   "execution_count": 25,
   "metadata": {},
   "outputs": [],
   "source": [
    "train_inputs, dev_inputs, train_labels, dev_labels = train_test_split(\n",
    "    commentDFTrain_clean.text, \n",
    "    commentDFTrain_clean.sentiment, \n",
    "    test_size=dev_size, \n",
    "    stratify=commentDFTrain_clean.sentiment\n",
    ")\n",
    "#dev_...usare en train_an_epoch()\n",
    "\n"
   ]
  },
  {
   "cell_type": "code",
   "execution_count": 26,
   "metadata": {},
   "outputs": [
    {
     "data": {
      "text/plain": [
       "2973"
      ]
     },
     "execution_count": 26,
     "metadata": {},
     "output_type": "execute_result"
    }
   ],
   "source": [
    "len(train_inputs)"
   ]
  },
  {
   "cell_type": "code",
   "execution_count": 27,
   "metadata": {},
   "outputs": [
    {
     "data": {
      "text/plain": [
       "1678    Una pequea pelcula encantadora ubicada en el R...\n",
       "1881    Vi a esta pelcula ms de cien vecesEs realmente...\n",
       "917     Mal actu mal escrito y mal dirigidoLos efectos...\n",
       "3307    No hay un artculo artstico aqu porque no se me...\n",
       "2503    Medusa se atreve a ser veraz es una parodia es...\n",
       "                              ...                        \n",
       "331     Esta pelcula tiene efectos especiales que por ...\n",
       "2457    Gente por favor no te molestes en ver esta pel...\n",
       "2612    Esta fue una mirada bastante desconcertante a ...\n",
       "939     Esta debe ser una de las pelculas danas ms div...\n",
       "1349    Esta pelcula sirve a todos los estereotipos gr...\n",
       "Name: text, Length: 2973, dtype: object"
      ]
     },
     "execution_count": 27,
     "metadata": {},
     "output_type": "execute_result"
    }
   ],
   "source": [
    "train_inputs"
   ]
  },
  {
   "cell_type": "code",
   "execution_count": 28,
   "metadata": {},
   "outputs": [
    {
     "data": {
      "text/plain": [
       "2973"
      ]
     },
     "execution_count": 28,
     "metadata": {},
     "output_type": "execute_result"
    }
   ],
   "source": [
    "len(train_labels)"
   ]
  },
  {
   "cell_type": "code",
   "execution_count": 29,
   "metadata": {},
   "outputs": [
    {
     "data": {
      "text/plain": [
       "1678    1\n",
       "1881    1\n",
       "917     0\n",
       "3307    0\n",
       "2503    1\n",
       "       ..\n",
       "331     1\n",
       "2457    0\n",
       "2612    1\n",
       "939     1\n",
       "1349    0\n",
       "Name: sentiment, Length: 2973, dtype: int64"
      ]
     },
     "execution_count": 29,
     "metadata": {},
     "output_type": "execute_result"
    }
   ],
   "source": [
    "train_labels"
   ]
  },
  {
   "cell_type": "code",
   "execution_count": 30,
   "metadata": {},
   "outputs": [
    {
     "name": "stdout",
     "output_type": "stream",
     "text": [
      "525\n"
     ]
    }
   ],
   "source": [
    "print(len(dev_inputs))"
   ]
  },
  {
   "cell_type": "code",
   "execution_count": 31,
   "metadata": {},
   "outputs": [
    {
     "data": {
      "text/plain": [
       "3065    Este sinceramente dulce y laboriosamente ritmo...\n",
       "678     Esta es una excelente pelcula llena de complej...\n",
       "1445    Yo cuando un adolescente realmente disfrut de ...\n",
       "2364    Solo me gustara decir que la cura fue una pelc...\n",
       "700     Esta pelcula me hizo muy felizEs imposible no ...\n",
       "                              ...                        \n",
       "2978    Desde el principio hasta que haya estado en el...\n",
       "654     Pens que Hugh OConor era asombroso como el jov...\n",
       "3090    Esta es ciertamente una pelcula de calidad con...\n",
       "926     Aunque traje esta pelcula por accidente pens q...\n",
       "2418    Estoy de acuerdo en que esta pelcula desperdic...\n",
       "Name: text, Length: 525, dtype: object"
      ]
     },
     "execution_count": 31,
     "metadata": {},
     "output_type": "execute_result"
    }
   ],
   "source": [
    "dev_inputs"
   ]
  },
  {
   "cell_type": "code",
   "execution_count": 32,
   "metadata": {},
   "outputs": [
    {
     "name": "stdout",
     "output_type": "stream",
     "text": [
      "525\n"
     ]
    }
   ],
   "source": [
    "print(len(dev_labels))"
   ]
  },
  {
   "cell_type": "code",
   "execution_count": 33,
   "metadata": {},
   "outputs": [
    {
     "data": {
      "text/plain": [
       "3065    0\n",
       "678     1\n",
       "1445    1\n",
       "2364    1\n",
       "700     1\n",
       "       ..\n",
       "2978    0\n",
       "654     1\n",
       "3090    1\n",
       "926     1\n",
       "2418    0\n",
       "Name: sentiment, Length: 525, dtype: int64"
      ]
     },
     "execution_count": 33,
     "metadata": {},
     "output_type": "execute_result"
    }
   ],
   "source": [
    "dev_labels"
   ]
  },
  {
   "cell_type": "code",
   "execution_count": 34,
   "metadata": {},
   "outputs": [],
   "source": [
    "class createDataset(Dataset):\n",
    "\n",
    "    def __init__(self, texts, targets, tokenizer, max_len):\n",
    "        self.texts = texts\n",
    "        self.targets = targets\n",
    "        self.tokenizer = tokenizer\n",
    "        self.max_len = max_len\n",
    "  \n",
    "    def __len__(self):\n",
    "        return len(self.texts)\n",
    "  \n",
    "    def __getitem__(self, item):\n",
    "        text = str(self.texts[item])\n",
    "        target = self.targets[item]\n",
    "\n",
    "        encoding = self.tokenizer.encode_plus(\n",
    "            text,\n",
    "            add_special_tokens=True,\n",
    "            max_length=self.max_len,\n",
    "            return_token_type_ids=False,\n",
    "            pad_to_max_length=True,\n",
    "            return_attention_mask=True,\n",
    "            return_tensors='pt',\n",
    "            truncation=True\n",
    "        )\n",
    "\n",
    "        return {\n",
    "            'text': text,\n",
    "            'input_ids': encoding['input_ids'].flatten(),\n",
    "            'attention_mask': encoding['attention_mask'].flatten(),\n",
    "            'targets': torch.tensor(target, dtype=torch.long)\n",
    "        }"
   ]
  },
  {
   "cell_type": "code",
   "execution_count": 35,
   "metadata": {},
   "outputs": [],
   "source": [
    "def create_data_loader(texts, labels, tokenizer, max_len, batch_size):\n",
    "    ds = createDataset(\n",
    "        texts=texts.to_numpy(),\n",
    "        targets=labels.to_numpy(),\n",
    "        tokenizer=tokenizer,\n",
    "        max_len=max_len\n",
    "  )\n",
    "\n",
    "    return DataLoader(\n",
    "        ds,\n",
    "        batch_size=batch_size,\n",
    "        num_workers=0 #modifique y no se dio el error de createDataset\n",
    "      )"
   ]
  },
  {
   "cell_type": "code",
   "execution_count": 36,
   "metadata": {},
   "outputs": [],
   "source": [
    "tokenizerBERT = BertTokenizer.from_pretrained('bert-base-cased')\n",
    "max_secuence_length = 80\n",
    "batch_size = 16"
   ]
  },
  {
   "cell_type": "code",
   "execution_count": 37,
   "metadata": {},
   "outputs": [],
   "source": [
    "train_data_loader_BERT = create_data_loader(train_inputs, train_labels, tokenizerBERT, max_secuence_length, batch_size)\n",
    "dev_data_loader_BERT = create_data_loader(dev_inputs, dev_labels, tokenizerBERT, max_secuence_length, batch_size)"
   ]
  },
  {
   "cell_type": "markdown",
   "metadata": {},
   "source": [
    "## Modelo"
   ]
  },
  {
   "cell_type": "code",
   "execution_count": 38,
   "metadata": {},
   "outputs": [],
   "source": [
    "# mismo utilizado para BETO\n",
    "def delete_classifier(beto_model): \n",
    "    new_cls = nn.Sequential(\n",
    "#         nn.Linear(beto_model.config.hidden_size, 200)\n",
    "        nn.Linear(beto_model.config.hidden_size, 5),\n",
    "#         nn.BatchNorm1d(num_features=)\n",
    "        nn.Dropout(0.6),\n",
    "    )\n",
    "    \n",
    "    copyOfModel = copy.deepcopy(beto_model)\n",
    "    copyOfModel.cls = new_cls\n",
    "\n",
    "    return copyOfModel"
   ]
  },
  {
   "cell_type": "code",
   "execution_count": 39,
   "metadata": {},
   "outputs": [],
   "source": [
    "# Build the model...\n",
    "class OrganicClassifierBERT(nn.Module):\n",
    "    def __init__(self, n_classes):  \n",
    "        super(OrganicClassifierBERT, self).__init__()\n",
    "        \n",
    "        # modelo pre entrando...        \n",
    "        self.bert = delete_classifier(AutoModelForMaskedLM.from_pretrained(\"bert-base-multilingual-cased\"))\n",
    "        self.linear_layers = nn.Sequential(\n",
    "            \n",
    "            \n",
    "#             nn.BatchNorm1d(num_features=200),\n",
    "#             nn.ReLU(),\n",
    "#             nn.Dropout(p=0.6),\n",
    "            \n",
    "#             nn.Linear(200,100),\n",
    "#             nn.BatchNorm1d(num_features=100),\n",
    "#             nn.ReLU(),\n",
    "#             nn.Dropout(p=0.6),\n",
    "            \n",
    "#             nn.Linear(100,50),\n",
    "#             nn.BatchNorm1d(num_features=50),\n",
    "#             nn.ReLU(),\n",
    "#             nn.Dropout(p=0.35),\n",
    "            \n",
    "#             nn.Linear(50, n_classes),\n",
    "#             nn.Sigmoid()\n",
    "            \n",
    "            nn.BatchNorm1d(num_features=5),\n",
    "            nn.ReLU(),\n",
    "            nn.Dropout(p=0.6),\n",
    "            \n",
    "            nn.Linear(5, n_classes),\n",
    "            nn.Dropout(p=0.5),\n",
    "            nn.Sigmoid()\n",
    "            \n",
    "            \n",
    "        )\n",
    "        \n",
    "  \n",
    "    def forward(self, input_ids, attention_mask):\n",
    "        secuence_output = self.bert(\n",
    "            input_ids=input_ids,\n",
    "            attention_mask=attention_mask\n",
    "        )[0][:,0,:]\n",
    "        out = self.linear_layers(secuence_output)\n",
    "        \n",
    "        return out"
   ]
  },
  {
   "cell_type": "code",
   "execution_count": 40,
   "metadata": {},
   "outputs": [
    {
     "name": "stderr",
     "output_type": "stream",
     "text": [
      "Some weights of the model checkpoint at bert-base-multilingual-cased were not used when initializing BertForMaskedLM: ['bert.pooler.dense.weight', 'bert.pooler.dense.bias', 'cls.seq_relationship.bias', 'cls.seq_relationship.weight']\n",
      "- This IS expected if you are initializing BertForMaskedLM from the checkpoint of a model trained on another task or with another architecture (e.g. initializing a BertForSequenceClassification model from a BertForPreTraining model).\n",
      "- This IS NOT expected if you are initializing BertForMaskedLM from the checkpoint of a model that you expect to be exactly identical (initializing a BertForSequenceClassification model from a BertForSequenceClassification model).\n"
     ]
    }
   ],
   "source": [
    "modelBERT = OrganicClassifierBERT(1) "
   ]
  },
  {
   "cell_type": "code",
   "execution_count": 41,
   "metadata": {},
   "outputs": [],
   "source": [
    "if torch.backends.mps.is_available():\n",
    "    device = torch.device(\"mps\")\n",
    "elif orch.cuda.is_available():\n",
    "    device = torch.device(\"cuda\")\n",
    "else:\n",
    "    device = torch.device(\"cpu\") "
   ]
  },
  {
   "cell_type": "code",
   "execution_count": 42,
   "metadata": {},
   "outputs": [],
   "source": [
    "modelBERT = modelBERT.to(device)"
   ]
  },
  {
   "cell_type": "code",
   "execution_count": 43,
   "metadata": {},
   "outputs": [
    {
     "name": "stderr",
     "output_type": "stream",
     "text": [
      "/Users/jose/miniforge3/envs/myclone/lib/python3.10/site-packages/transformers/optimization.py:411: FutureWarning: This implementation of AdamW is deprecated and will be removed in a future version. Use the PyTorch implementation torch.optim.AdamW instead, or set `no_deprecation_warning=True` to disable this warning\n",
      "  warnings.warn(\n"
     ]
    }
   ],
   "source": [
    "# Define hyperparameters...\n",
    "learning_rate = 1e-6\n",
    "optimizer = AdamW(modelBERT.parameters(), lr=learning_rate, correct_bias=False)\n",
    "criterion = nn.BCELoss().to(device)"
   ]
  },
  {
   "cell_type": "code",
   "execution_count": 44,
   "metadata": {},
   "outputs": [],
   "source": [
    "# Tareas a realizar durante una época para entrenar el modelo...\n",
    "def train_an_epoch(\n",
    "    model, \n",
    "    train_data_loader,\n",
    "    dev_data_loader,\n",
    "    criterion, \n",
    "    optimizer\n",
    "):\n",
    "\n",
    "   \n",
    "    running_loss = 0\n",
    "    running_accs = 0\n",
    "    steps = 0;\n",
    "    \n",
    "    for batch in train_data_loader:\n",
    "        \n",
    "       \n",
    "        optimizer.zero_grad()\n",
    "    \n",
    "       \n",
    "        input_ids = batch[\"input_ids\"].to(device)\n",
    "        attention_mask = batch[\"attention_mask\"].to(device)\n",
    "        targets = batch[\"targets\"].to(device)\n",
    "        \n",
    "       \n",
    "        outputs = model(\n",
    "            input_ids=input_ids,\n",
    "            attention_mask=attention_mask\n",
    "        )\n",
    "        \n",
    "\n",
    "        targets = torch.reshape(targets, (targets.shape[0], 1))#\n",
    "        \n",
    "\n",
    "        loss = criterion(outputs, targets.float())\n",
    "        loss.backward() \n",
    "        optimizer.step()\n",
    "        \n",
    "\n",
    "        acc = torch.eq(targets, outputs.round_()).float().mean()\n",
    "        running_loss = loss.item()\n",
    "        running_loss += loss.item();\n",
    "        running_accs += acc.item()\n",
    "        steps+=1\n",
    "            \n",
    "\n",
    "    loss = running_loss/steps;\n",
    "    acc = running_accs/steps;\n",
    "\n",
    "    with torch.no_grad():\n",
    "\n",
    "        epoch_accs_val=0;\n",
    "        steps_val=0;\n",
    "        \n",
    "        for batch in dev_data_loader:\n",
    "            \n",
    "\n",
    "            input_ids = batch[\"input_ids\"].to(device)\n",
    "            attention_mask = batch[\"attention_mask\"].to(device)\n",
    "            targets = batch[\"targets\"].to(device)\n",
    "        \n",
    "\n",
    "            outputs = model(\n",
    "                input_ids=input_ids,\n",
    "                attention_mask=attention_mask\n",
    "            )\n",
    "            \n",
    "\n",
    "            targets = torch.reshape(targets, (targets.shape[0], 1))#\n",
    "\n",
    "            acc_val = torch.eq(targets, outputs.round_()).float().mean();\n",
    "            epoch_accs_val += acc_val.item()\n",
    "            steps_val += 1\n",
    "            \n",
    "        val_acc = epoch_accs_val/steps_val\n",
    "    \n",
    "    return loss, acc, val_acc"
   ]
  },
  {
   "cell_type": "code",
   "execution_count": 45,
   "metadata": {},
   "outputs": [],
   "source": [
    "# Entrenar el modelo segun cantidad de epocas\n",
    "def train_the_model_BERT(epochs):\n",
    "    \n",
    "    for e in range(epochs):\n",
    "        \n",
    "        loss, acc, val_acc = train_an_epoch(\n",
    "            modelBERT, \n",
    "            train_data_loader_BERT,\n",
    "            dev_data_loader_BERT,\n",
    "            criterion, \n",
    "            optimizer\n",
    "        )\n",
    "        \n",
    "        print('--------EPOCH SUMMARY---------')\n",
    "        print('Epoch ', e+1, ' training loss: ', loss)\n",
    "        print('Epoch ', e+1, ' training acc: ', acc*100, '%')\n",
    "        print('Epoch ', e+1, ' val acc: ', val_acc*100, '%')\n",
    "        "
   ]
  },
  {
   "cell_type": "markdown",
   "metadata": {},
   "source": [
    "## Resultados"
   ]
  },
  {
   "cell_type": "code",
   "execution_count": 46,
   "metadata": {},
   "outputs": [],
   "source": [
    "class TestDataset(Dataset):\n",
    "\n",
    "    def __init__(self, texts, tokenizer, max_len):\n",
    "        self.texts = texts\n",
    "        self.tokenizer = tokenizer\n",
    "        self.max_len = max_len\n",
    "  \n",
    "    def __len__(self):\n",
    "        return len(self.texts)\n",
    "  \n",
    "    def __getitem__(self, item):\n",
    "        text = str(self.texts[item])\n",
    "\n",
    "        encoding = self.tokenizer.encode_plus(\n",
    "            text,\n",
    "            add_special_tokens=True,\n",
    "            max_length=self.max_len,\n",
    "            return_token_type_ids=False,\n",
    "            pad_to_max_length=True,\n",
    "            return_attention_mask=True,\n",
    "            return_tensors='pt',\n",
    "            truncation=True\n",
    "        )\n",
    "\n",
    "        return {\n",
    "            'text': text,\n",
    "            'input_ids': encoding['input_ids'].flatten(),\n",
    "            'attention_mask': encoding['attention_mask'].flatten()\n",
    "        }"
   ]
  },
  {
   "cell_type": "code",
   "execution_count": 47,
   "metadata": {},
   "outputs": [],
   "source": [
    "def create_test_data_loader(texts, tokenizer, max_len, batch_size):\n",
    "    ds = TestDataset(\n",
    "        texts=texts.to_numpy(),\n",
    "        tokenizer=tokenizer,\n",
    "        max_len=max_len\n",
    "  )\n",
    "\n",
    "    return DataLoader(\n",
    "        ds,\n",
    "        batch_size=batch_size,\n",
    "        num_workers=0 #cambie de 4 a 0 para evitar el posible error otra vez\n",
    "      )"
   ]
  },
  {
   "cell_type": "code",
   "execution_count": 48,
   "metadata": {},
   "outputs": [],
   "source": [
    "test_data_loader = create_test_data_loader(\n",
    "    commentDFVal_clean.text, \n",
    "    tokenizerBERT,\n",
    "    max_secuence_length, \n",
    "    batch_size\n",
    ")"
   ]
  },
  {
   "cell_type": "code",
   "execution_count": 49,
   "metadata": {},
   "outputs": [],
   "source": [
    "def is_organic(x):\n",
    "    if(x>=0.5):\n",
    "        return 1\n",
    "    else:\n",
    "        return 0"
   ]
  },
  {
   "cell_type": "code",
   "execution_count": 50,
   "metadata": {},
   "outputs": [],
   "source": [
    "def get_predictions(model, data_loader):\n",
    "    \n",
    "    model = model.eval()\n",
    "    preds = []\n",
    "    \n",
    "    \n",
    "    with torch.no_grad():\n",
    "        \n",
    "        for batch in data_loader:\n",
    "            \n",
    "            input_ids = batch[\"input_ids\"].to(device)\n",
    "            attention_mask = batch[\"attention_mask\"].to(device)\n",
    "            \n",
    "        \n",
    "            outputs = model(\n",
    "                input_ids=input_ids,\n",
    "                attention_mask=attention_mask\n",
    "            )\n",
    "            \n",
    "            outputs = torch.reshape(outputs, [outputs.shape[0]])\n",
    "            \n",
    "\n",
    "            outputs = [(is_organic(x)) for x in outputs]\n",
    "            outputs = [(preds.append(x)) for x in outputs]\n",
    "    \n",
    "#     print(preds)\n",
    "    return preds"
   ]
  },
  {
   "cell_type": "code",
   "execution_count": 51,
   "metadata": {},
   "outputs": [],
   "source": [
    "def respuestas(reales, predicciones):\n",
    "    contador_aciertos = 0\n",
    "    contador_no_aciertos = 0\n",
    "    for (real, prediccion) in zip(reales, predicciones):\n",
    "        if real == prediccion:\n",
    "            contador_aciertos = contador_aciertos+1\n",
    "        else:\n",
    "            contador_no_aciertos = contador_no_aciertos + 1\n",
    "    return contador_aciertos, contador_no_aciertos  "
   ]
  },
  {
   "cell_type": "markdown",
   "metadata": {},
   "source": [
    "### 5 epocas"
   ]
  },
  {
   "cell_type": "code",
   "execution_count": 60,
   "metadata": {},
   "outputs": [
    {
     "name": "stderr",
     "output_type": "stream",
     "text": [
      "/Users/jose/miniforge3/envs/myclone/lib/python3.10/site-packages/transformers/tokenization_utils_base.py:2622: FutureWarning: The `pad_to_max_length` argument is deprecated and will be removed in a future version, use `padding=True` or `padding='longest'` to pad to the longest sequence in the batch, or use `padding='max_length'` to pad to a max length. In this case, you can give a specific length with `max_length` (e.g. `max_length=45`) or leave max_length to None to pad to the maximal input size of the model (e.g. 512 for Bert).\n",
      "  warnings.warn(\n"
     ]
    },
    {
     "name": "stdout",
     "output_type": "stream",
     "text": [
      "--------EPOCH SUMMARY---------\n",
      "Epoch  1  training loss:  0.007678492094880791\n",
      "Epoch  1  training acc:  44.46081472660906 %\n",
      "Epoch  1  val acc:  44.303613088347696 %\n",
      "--------EPOCH SUMMARY---------\n",
      "Epoch  2  training loss:  0.007702222434423303\n",
      "Epoch  2  training acc:  44.46081472660906 %\n",
      "Epoch  2  val acc:  44.303613088347696 %\n",
      "--------EPOCH SUMMARY---------\n",
      "Epoch  3  training loss:  0.00762568558416059\n",
      "Epoch  3  training acc:  44.46081472660906 %\n",
      "Epoch  3  val acc:  44.303613088347696 %\n",
      "--------EPOCH SUMMARY---------\n",
      "Epoch  4  training loss:  0.007376404218776252\n",
      "Epoch  4  training acc:  44.46081472660906 %\n",
      "Epoch  4  val acc:  44.303613088347696 %\n",
      "--------EPOCH SUMMARY---------\n",
      "Epoch  5  training loss:  0.007113941254154328\n",
      "Epoch  5  training acc:  44.46081472660906 %\n",
      "Epoch  5  val acc:  44.303613088347696 %\n"
     ]
    }
   ],
   "source": [
    "epochs = 5\n",
    "train_the_model_BERT(epochs)"
   ]
  },
  {
   "cell_type": "code",
   "execution_count": 61,
   "metadata": {},
   "outputs": [],
   "source": [
    "label_preds = get_predictions(modelBERT, test_data_loader)"
   ]
  },
  {
   "cell_type": "code",
   "execution_count": 62,
   "metadata": {},
   "outputs": [],
   "source": [
    "commentDFVal_clean['bert'] = label_preds"
   ]
  },
  {
   "cell_type": "code",
   "execution_count": 64,
   "metadata": {},
   "outputs": [
    {
     "data": {
      "text/html": [
       "<div>\n",
       "<style scoped>\n",
       "    .dataframe tbody tr th:only-of-type {\n",
       "        vertical-align: middle;\n",
       "    }\n",
       "\n",
       "    .dataframe tbody tr th {\n",
       "        vertical-align: top;\n",
       "    }\n",
       "\n",
       "    .dataframe thead th {\n",
       "        text-align: right;\n",
       "    }\n",
       "</style>\n",
       "<table border=\"1\" class=\"dataframe\">\n",
       "  <thead>\n",
       "    <tr style=\"text-align: right;\">\n",
       "      <th></th>\n",
       "      <th>text</th>\n",
       "      <th>sentiment</th>\n",
       "      <th>bert</th>\n",
       "    </tr>\n",
       "  </thead>\n",
       "  <tbody>\n",
       "    <tr>\n",
       "      <th>0</th>\n",
       "      <td>Quieres saber lo que los escritores de esta pe...</td>\n",
       "      <td>0</td>\n",
       "      <td>0</td>\n",
       "    </tr>\n",
       "    <tr>\n",
       "      <th>1</th>\n",
       "      <td>Esta fue una pelcula muy bien guionadaGran div...</td>\n",
       "      <td>1</td>\n",
       "      <td>0</td>\n",
       "    </tr>\n",
       "    <tr>\n",
       "      <th>2</th>\n",
       "      <td>La pelcula no fue tan grandeEl libro es mejorP...</td>\n",
       "      <td>1</td>\n",
       "      <td>0</td>\n",
       "    </tr>\n",
       "    <tr>\n",
       "      <th>3</th>\n",
       "      <td>He tenido que cambiar mi opinin sobre la peor ...</td>\n",
       "      <td>0</td>\n",
       "      <td>0</td>\n",
       "    </tr>\n",
       "    <tr>\n",
       "      <th>4</th>\n",
       "      <td>El mundo entero est cayendo presa de una enfer...</td>\n",
       "      <td>1</td>\n",
       "      <td>0</td>\n",
       "    </tr>\n",
       "    <tr>\n",
       "      <th>...</th>\n",
       "      <td>...</td>\n",
       "      <td>...</td>\n",
       "      <td>...</td>\n",
       "    </tr>\n",
       "    <tr>\n",
       "      <th>887</th>\n",
       "      <td>Quin escribi el script para esta pelcula el pe...</td>\n",
       "      <td>0</td>\n",
       "      <td>0</td>\n",
       "    </tr>\n",
       "    <tr>\n",
       "      <th>888</th>\n",
       "      <td>Esta es la segunda pelcula que he visto de Ida...</td>\n",
       "      <td>1</td>\n",
       "      <td>0</td>\n",
       "    </tr>\n",
       "    <tr>\n",
       "      <th>889</th>\n",
       "      <td>Esta pelcula chupEl primero fue mucho mejorNad...</td>\n",
       "      <td>0</td>\n",
       "      <td>0</td>\n",
       "    </tr>\n",
       "    <tr>\n",
       "      <th>890</th>\n",
       "      <td>Me encant esta pelcula lo vi cuando tena unos ...</td>\n",
       "      <td>1</td>\n",
       "      <td>0</td>\n",
       "    </tr>\n",
       "    <tr>\n",
       "      <th>891</th>\n",
       "      <td>Admito que voy ms por el tradicional cuento de...</td>\n",
       "      <td>1</td>\n",
       "      <td>0</td>\n",
       "    </tr>\n",
       "  </tbody>\n",
       "</table>\n",
       "<p>892 rows × 3 columns</p>\n",
       "</div>"
      ],
      "text/plain": [
       "                                                  text  sentiment  bert\n",
       "0    Quieres saber lo que los escritores de esta pe...          0     0\n",
       "1    Esta fue una pelcula muy bien guionadaGran div...          1     0\n",
       "2    La pelcula no fue tan grandeEl libro es mejorP...          1     0\n",
       "3    He tenido que cambiar mi opinin sobre la peor ...          0     0\n",
       "4    El mundo entero est cayendo presa de una enfer...          1     0\n",
       "..                                                 ...        ...   ...\n",
       "887  Quin escribi el script para esta pelcula el pe...          0     0\n",
       "888  Esta es la segunda pelcula que he visto de Ida...          1     0\n",
       "889  Esta pelcula chupEl primero fue mucho mejorNad...          0     0\n",
       "890  Me encant esta pelcula lo vi cuando tena unos ...          1     0\n",
       "891  Admito que voy ms por el tradicional cuento de...          1     0\n",
       "\n",
       "[892 rows x 3 columns]"
      ]
     },
     "execution_count": 64,
     "metadata": {},
     "output_type": "execute_result"
    }
   ],
   "source": [
    "commentDFVal_clean"
   ]
  },
  {
   "cell_type": "code",
   "execution_count": 70,
   "metadata": {},
   "outputs": [],
   "source": [
    "fileBERT = \"output_BERT\"\n",
    "commentDFVal_clean.to_csv(fileBERT, sep=',', index=False, encoding='utf-8')"
   ]
  },
  {
   "cell_type": "code",
   "execution_count": 65,
   "metadata": {},
   "outputs": [
    {
     "name": "stdout",
     "output_type": "stream",
     "text": [
      "0    892\n",
      "Name: bert, dtype: int64\n",
      "892\n"
     ]
    }
   ],
   "source": [
    "print(commentDFVal_clean.bert.value_counts())\n",
    "print(len(commentDFVal_clean.bert))"
   ]
  },
  {
   "cell_type": "code",
   "execution_count": 66,
   "metadata": {},
   "outputs": [],
   "source": [
    "aciertos, no_aciertos = respuestas(commentDFVal_clean.sentiment, label_preds)"
   ]
  },
  {
   "cell_type": "code",
   "execution_count": 67,
   "metadata": {},
   "outputs": [
    {
     "data": {
      "text/plain": [
       "399"
      ]
     },
     "execution_count": 67,
     "metadata": {},
     "output_type": "execute_result"
    }
   ],
   "source": [
    "aciertos"
   ]
  },
  {
   "cell_type": "code",
   "execution_count": 68,
   "metadata": {},
   "outputs": [
    {
     "data": {
      "text/plain": [
       "493"
      ]
     },
     "execution_count": 68,
     "metadata": {},
     "output_type": "execute_result"
    }
   ],
   "source": [
    "no_aciertos"
   ]
  },
  {
   "cell_type": "markdown",
   "metadata": {},
   "source": [
    "### 10 epocas"
   ]
  },
  {
   "cell_type": "code",
   "execution_count": 47,
   "metadata": {},
   "outputs": [
    {
     "name": "stderr",
     "output_type": "stream",
     "text": [
      "/Users/jose/miniforge3/envs/myclone/lib/python3.10/site-packages/transformers/tokenization_utils_base.py:2622: FutureWarning: The `pad_to_max_length` argument is deprecated and will be removed in a future version, use `padding=True` or `padding='longest'` to pad to the longest sequence in the batch, or use `padding='max_length'` to pad to a max length. In this case, you can give a specific length with `max_length` (e.g. `max_length=45`) or leave max_length to None to pad to the maximal input size of the model (e.g. 512 for Bert).\n",
      "  warnings.warn(\n"
     ]
    },
    {
     "name": "stdout",
     "output_type": "stream",
     "text": [
      "--------EPOCH SUMMARY---------\n",
      "Epoch  1  training loss:  0.010107673624510406\n",
      "Epoch  1  training acc:  49.56834160832948 %\n",
      "Epoch  1  val acc:  46.47435907161597 %\n"
     ]
    }
   ],
   "source": [
    "epochs = 10\n",
    "train_the_model_BERT(epochs)"
   ]
  },
  {
   "cell_type": "code",
   "execution_count": 56,
   "metadata": {},
   "outputs": [
    {
     "name": "stderr",
     "output_type": "stream",
     "text": [
      "/Users/jose/miniforge3/envs/myclone/lib/python3.10/site-packages/transformers/tokenization_utils_base.py:2622: FutureWarning: The `pad_to_max_length` argument is deprecated and will be removed in a future version, use `padding=True` or `padding='longest'` to pad to the longest sequence in the batch, or use `padding='max_length'` to pad to a max length. In this case, you can give a specific length with `max_length` (e.g. `max_length=45`) or leave max_length to None to pad to the maximal input size of the model (e.g. 512 for Bert).\n",
      "  warnings.warn(\n"
     ]
    }
   ],
   "source": [
    "label_preds = get_predictions(modelBERT, test_data_loader)"
   ]
  },
  {
   "cell_type": "code",
   "execution_count": 57,
   "metadata": {},
   "outputs": [],
   "source": [
    "aciertos, no_aciertos = respuestas(commentDFVal_clean.sentiment, label_preds)"
   ]
  },
  {
   "cell_type": "code",
   "execution_count": 58,
   "metadata": {},
   "outputs": [
    {
     "data": {
      "text/plain": [
       "399"
      ]
     },
     "execution_count": 58,
     "metadata": {},
     "output_type": "execute_result"
    }
   ],
   "source": [
    "aciertos"
   ]
  },
  {
   "cell_type": "code",
   "execution_count": 59,
   "metadata": {},
   "outputs": [
    {
     "data": {
      "text/plain": [
       "493"
      ]
     },
     "execution_count": 59,
     "metadata": {},
     "output_type": "execute_result"
    }
   ],
   "source": [
    "no_aciertos"
   ]
  },
  {
   "cell_type": "markdown",
   "metadata": {},
   "source": [
    "### 15 epocas"
   ]
  },
  {
   "cell_type": "code",
   "execution_count": null,
   "metadata": {},
   "outputs": [],
   "source": [
    "epochs = 15\n",
    "train_the_model_BERT(epochs)"
   ]
  },
  {
   "cell_type": "code",
   "execution_count": null,
   "metadata": {},
   "outputs": [],
   "source": [
    "label_preds = get_predictions(modelBERT, test_data_loader)"
   ]
  },
  {
   "cell_type": "code",
   "execution_count": null,
   "metadata": {},
   "outputs": [],
   "source": [
    "aciertos, no_aciertos = respuestas(commentDFVal_clean.sentiment, label_preds)"
   ]
  }
 ],
 "metadata": {
  "kernelspec": {
   "display_name": "Python 3 (ipykernel)",
   "language": "python",
   "name": "python3"
  }
 },
 "nbformat": 4,
 "nbformat_minor": 2
}
