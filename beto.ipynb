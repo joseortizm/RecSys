{
 "cells": [
  {
   "cell_type": "code",
   "execution_count": 1,
   "metadata": {},
   "outputs": [],
   "source": [
    "from easyclean import datasets\n",
    "import pandas as pd\n",
    "from utils import sequence_utils"
   ]
  },
  {
   "cell_type": "code",
   "execution_count": 2,
   "metadata": {},
   "outputs": [
    {
     "name": "stdout",
     "output_type": "stream",
     "text": [
      "                                               review_es sentiment\n",
      "0      Uno de los otros críticos ha mencionado que de...  positive\n",
      "1      Una pequeña pequeña producción.La técnica de f...  positive\n",
      "2      Pensé que esta era una manera maravillosa de p...  positive\n",
      "3      Básicamente, hay una familia donde un niño peq...  negative\n",
      "4      El \"amor en el tiempo\" de Petter Mattei es una...  positive\n",
      "...                                                  ...       ...\n",
      "49995  Pensé que esta película hizo un buen trabajo a...  positive\n",
      "49996  Mala parcela, mal diálogo, mala actuación, dir...  negative\n",
      "49997  Soy católica enseñada en escuelas primarias pa...  negative\n",
      "49998  Voy a tener que estar en desacuerdo con el com...  negative\n",
      "49999  Nadie espera que las películas de Star Trek se...  negative\n",
      "\n",
      "[50000 rows x 2 columns]\n"
     ]
    }
   ],
   "source": [
    "originalDataset = \"datasets/IMDBDatasetSPANISH.csv\"\n",
    "pandasDF = pd.read_csv(originalDataset)\n",
    "filas = ['review_es', 'sentiment'] #columnas por mantener\n",
    "DF = datasets.delete(pandasDF, filas)\n",
    "print(DF)"
   ]
  },
  {
   "cell_type": "code",
   "execution_count": 3,
   "metadata": {},
   "outputs": [
    {
     "name": "stdout",
     "output_type": "stream",
     "text": [
      "undetected element with index: 3\n",
      "                                                    text sentiment\n",
      "0      Uno de los otros críticos ha mencionado que de...  positive\n",
      "1      Una pequeña pequeña producción.La técnica de f...  positive\n",
      "2      Pensé que esta era una manera maravillosa de p...  positive\n",
      "3      Básicamente, hay una familia donde un niño peq...  negative\n",
      "4      El \"amor en el tiempo\" de Petter Mattei es una...  positive\n",
      "...                                                  ...       ...\n",
      "62470  Película dirigida a un público adolescente, co...         0\n",
      "62471  Bergman en estado puro. Duro a la par que sens...         0\n",
      "62472  Por fin vemos un Almodóvar que retrata escenas...         0\n",
      "62473  Dos horas entretenidillas de thriller con cier...         0\n",
      "62474  La película es entretenida e interesante, sobr...         0\n",
      "\n",
      "[62475 rows x 2 columns]\n",
      "(62475, 2)\n"
     ]
    }
   ],
   "source": [
    "listDatasets = [DF, \"datasets/filmaffinity\", \"datasets/muchocine\", 2]\n",
    "headers = ['text', 'sentiment']\n",
    "newDatasets = datasets.join(listDatasets, headers)\n",
    "print(newDatasets)\n",
    "print(newDatasets.shape)"
   ]
  },
  {
   "cell_type": "code",
   "execution_count": 4,
   "metadata": {},
   "outputs": [],
   "source": [
    "from transformers import BertTokenizer"
   ]
  },
  {
   "cell_type": "code",
   "execution_count": 5,
   "metadata": {},
   "outputs": [],
   "source": [
    "PRE_TRAINED_MODEL_NAME = 'dccuchile/bert-base-spanish-wwm-cased'"
   ]
  },
  {
   "cell_type": "code",
   "execution_count": 6,
   "metadata": {},
   "outputs": [],
   "source": [
    "tokenizer = BertTokenizer.from_pretrained(PRE_TRAINED_MODEL_NAME)"
   ]
  },
  {
   "cell_type": "code",
   "execution_count": 7,
   "metadata": {},
   "outputs": [
    {
     "name": "stderr",
     "output_type": "stream",
     "text": [
      "Truncation was not explicitly activated but `max_length` is provided a specific value, please use `truncation=True` to explicitly truncate examples to max length. Defaulting to 'longest_first' truncation strategy. If you encode pairs of sequences (GLUE-style) with the tokenizer you can select this strategy more precisely by providing a specific strategy to `truncation`.\n",
      "/Users/jose/Documents/thesis/RecSys/utils/sequence_utils.py:11: UserWarning: \n",
      "\n",
      "`distplot` is a deprecated function and will be removed in seaborn v0.14.0.\n",
      "\n",
      "Please adapt your code to use either `displot` (a figure-level function with\n",
      "similar flexibility) or `histplot` (an axes-level function for histograms).\n",
      "\n",
      "For a guide to updating your code to use the new functions, please see\n",
      "https://gist.github.com/mwaskom/de44147ed2974457ad6372750bbe5751\n",
      "\n",
      "  sns.distplot(token_lens)\n"
     ]
    },
    {
     "data": {
      "image/png": "[encoded data removed]",
      "text/plain": [
       "<Figure size 640x480 with 1 Axes>"
      ]
     },
     "metadata": {},
     "output_type": "display_data"
    }
   ],
   "source": [
    "sequence_utils.plot_token_count(newDatasets.text, tokenizer)"
   ]
  },
  {
   "cell_type": "markdown",
   "metadata": {},
   "source": [
    "Lo anterior sin considerar el selectTexts (160) de beto_colab.ipynb"
   ]
  },
  {
   "cell_type": "code",
   "execution_count": null,
   "metadata": {},
   "outputs": [],
   "source": []
  }
 ],
 "metadata": {
  "kernelspec": {
   "display_name": "Python 3 (ipykernel)",
   "language": "python",
   "name": "python3"
  },
  "language_info": {
   "codemirror_mode": {
    "name": "ipython",
    "version": 3
   },
   "file_extension": ".py",
   "mimetype": "text/x-python",
   "name": "python",
   "nbconvert_exporter": "python",
   "pygments_lexer": "ipython3",
   "version": "3.10.0"
  }
 },
 "nbformat": 4,
 "nbformat_minor": 2
}
